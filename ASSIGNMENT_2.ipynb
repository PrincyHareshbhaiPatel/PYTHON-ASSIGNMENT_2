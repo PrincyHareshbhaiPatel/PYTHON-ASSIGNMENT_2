{
 "cells": [
  {
   "cell_type": "markdown",
   "id": "ff491c84-2b02-464c-b81a-48a3760ebd00",
   "metadata": {},
   "source": [
    "# Q1. How do you comment code in Python? What are the different types of comments?"
   ]
  },
  {
   "cell_type": "markdown",
   "id": "b010c36f-3bf1-41c4-a671-a63e78449156",
   "metadata": {},
   "source": [
    "# we comment code in python by using # or \"\"\" or ''' before writing the code\n",
    "# we havetwo different types of comments:\n",
    "# 1.single line comment\n",
    "# which is used to write comments of a single line or of a few words\n",
    "# 2.multi-line comments:\n",
    "# they are used to write comments of more than single line"
   ]
  },
  {
   "cell_type": "code",
   "execution_count": 1,
   "id": "7edd1c64-4329-4782-a05d-13e593980efe",
   "metadata": {},
   "outputs": [
    {
     "name": "stdout",
     "output_type": "stream",
     "text": [
      "Hello World!\n"
     ]
    }
   ],
   "source": [
    "#1.Single line comment:\n",
    "print (\"Hello World!\")  #hello world"
   ]
  },
  {
   "cell_type": "code",
   "execution_count": 1,
   "id": "efec8ae0-7d8e-4a36-b297-96fe6d6f6c18",
   "metadata": {},
   "outputs": [
    {
     "name": "stdout",
     "output_type": "stream",
     "text": [
      "Hello World!\n"
     ]
    }
   ],
   "source": [
    "#2.Multi line comment:\n",
    "\"\"\"\n",
    "hello \n",
    "pwskills\n",
    "data science course\n",
    "\"\"\"\n",
    "print(\"Hello World!\")\n"
   ]
  },
  {
   "cell_type": "markdown",
   "id": "5b3558bc-2c46-4fdc-89eb-9b0616bbefbd",
   "metadata": {},
   "source": [
    "# Q2. What are variables in Python? How do you declare and assign values to variables?"
   ]
  },
  {
   "cell_type": "markdown",
   "id": "856da790-d365-4fc7-9f03-b6ebfab4158c",
   "metadata": {},
   "source": [
    "# In Python, variables are used to store data values that can be accessed and manipulated throughout the program. \n",
    "# Variables can hold different types of data, such as numbers, strings, lists, or even more complex objects."
   ]
  },
  {
   "cell_type": "markdown",
   "id": "76a52c71-8784-48d4-bf63-fbd79c660bad",
   "metadata": {},
   "source": [
    "# Declaration: \n",
    "# In Python, you don't need to explicitly declare variables before assigning values to them. \n",
    "# You can directly assign a value to a variable using the assignment operator =.\n",
    "# Assigning:\n",
    "# To assign a value to a variable, you simply write the variable name followed by the assignment operator = and the value you want to assign."
   ]
  },
  {
   "cell_type": "code",
   "execution_count": 10,
   "id": "10da45cf-8468-41fc-83cd-430aa89a8573",
   "metadata": {},
   "outputs": [],
   "source": [
    "#for EX\n",
    "x = 8   #value 8 is assigned to x"
   ]
  },
  {
   "cell_type": "markdown",
   "id": "0f3f6350-3a1e-4764-a0b2-abc1e8583393",
   "metadata": {},
   "source": [
    "# Q3. How do you convert one data type to another in Python?"
   ]
  },
  {
   "cell_type": "markdown",
   "id": "2339dedf-d86d-488e-8bf3-a1778ea3e3e5",
   "metadata": {},
   "source": [
    "# In python, we use type conversion functions to convert one data type to another"
   ]
  },
  {
   "cell_type": "code",
   "execution_count": 13,
   "id": "9b2a6c9b-ce51-4664-a678-9550d904d9d2",
   "metadata": {},
   "outputs": [],
   "source": [
    "#For EX:\n",
    "str=\"20\"\n",
    "str_new=int(str)"
   ]
  },
  {
   "cell_type": "code",
   "execution_count": 14,
   "id": "a93ed8cd-d247-45d2-bf17-468cbe66f6d7",
   "metadata": {},
   "outputs": [
    {
     "data": {
      "text/plain": [
       "20"
      ]
     },
     "execution_count": 14,
     "metadata": {},
     "output_type": "execute_result"
    }
   ],
   "source": [
    "str_new"
   ]
  },
  {
   "cell_type": "code",
   "execution_count": 15,
   "id": "0895d0ac-d449-466d-9fc9-6d1ed025eb53",
   "metadata": {},
   "outputs": [],
   "source": [
    "#for EX:\n",
    "\n",
    "float = 30.1456\n",
    "float_new = int(float)"
   ]
  },
  {
   "cell_type": "code",
   "execution_count": 16,
   "id": "ff51f41b-d1e3-4cae-bd36-da0e2d422bfa",
   "metadata": {},
   "outputs": [
    {
     "data": {
      "text/plain": [
       "30"
      ]
     },
     "execution_count": 16,
     "metadata": {},
     "output_type": "execute_result"
    }
   ],
   "source": [
    "float_new"
   ]
  },
  {
   "cell_type": "code",
   "execution_count": 19,
   "id": "81f9bfea-388c-4372-9e0a-43ee46b17af1",
   "metadata": {},
   "outputs": [],
   "source": [
    "#for EX:\n",
    "\n",
    "l = [1,2,3,3,4,5,5]\n",
    "l_new = set(l)"
   ]
  },
  {
   "cell_type": "code",
   "execution_count": 20,
   "id": "c4301b2e-677a-499a-b465-6d0fc7d76b84",
   "metadata": {},
   "outputs": [
    {
     "data": {
      "text/plain": [
       "{1, 2, 3, 4, 5}"
      ]
     },
     "execution_count": 20,
     "metadata": {},
     "output_type": "execute_result"
    }
   ],
   "source": [
    "l_new"
   ]
  },
  {
   "cell_type": "markdown",
   "id": "f9c98248-ae74-4290-9074-69d921a95416",
   "metadata": {},
   "source": [
    "# Q4. How do you write and execute a Python script from the command line?"
   ]
  },
  {
   "cell_type": "code",
   "execution_count": null,
   "id": "ac02107e-038f-493b-8ae7-8a5379264df5",
   "metadata": {},
   "outputs": [],
   "source": []
  },
  {
   "cell_type": "markdown",
   "id": "0702152c-65ce-450e-9042-9ef57bf0d017",
   "metadata": {},
   "source": [
    "# Q5. Given a list my_list = [1, 2, 3, 4, 5], write the code to slice the list and obtain the sub-list [2, 3]"
   ]
  },
  {
   "cell_type": "code",
   "execution_count": 2,
   "id": "4c377a7c-bb64-4c45-9a49-6d4ecbb63009",
   "metadata": {},
   "outputs": [],
   "source": [
    "my_list = [1,2,3,4,5]"
   ]
  },
  {
   "cell_type": "code",
   "execution_count": 3,
   "id": "fb609ff3-abee-401d-8fa1-30bb0f004ecd",
   "metadata": {},
   "outputs": [
    {
     "data": {
      "text/plain": [
       "[2, 3]"
      ]
     },
     "execution_count": 3,
     "metadata": {},
     "output_type": "execute_result"
    }
   ],
   "source": [
    "my_list[1:3]"
   ]
  },
  {
   "cell_type": "markdown",
   "id": "1fbef835-9f0c-4ebf-8f30-c59ae3438f11",
   "metadata": {},
   "source": [
    "# Q6. What is a complex number in mathematics, and how is it represented in Python?"
   ]
  },
  {
   "cell_type": "markdown",
   "id": "571808c6-d688-4227-b930-ad09893cc1e6",
   "metadata": {},
   "source": [
    "# In mathematics, a complex number is a number that comprises both a real part and an imaginary part. \n",
    "# It is written in the form a + bi, where a represents the real part, b represents the imaginary part, and i is the imaginary unit defined as the square root of -1.\n",
    "\n",
    "# In Python, complex numbers are represented using the complex data type. \n",
    "# The imaginary part is denoted by the j suffix instead of i to avoid conflicts with the variable i commonly used as a loop counter.  The general syntax to represent a complex number in Python is a + bj.\n"
   ]
  },
  {
   "cell_type": "code",
   "execution_count": 29,
   "id": "67448584-e92e-4012-babb-1424f74ba0fc",
   "metadata": {},
   "outputs": [],
   "source": [
    "#for EX:\n",
    "\n",
    "a = 9 + 6j"
   ]
  },
  {
   "cell_type": "code",
   "execution_count": 30,
   "id": "d3696804-30b8-45b2-a1a4-62a4dccfbe19",
   "metadata": {},
   "outputs": [
    {
     "data": {
      "text/plain": [
       "9.0"
      ]
     },
     "execution_count": 30,
     "metadata": {},
     "output_type": "execute_result"
    }
   ],
   "source": [
    "a.real"
   ]
  },
  {
   "cell_type": "code",
   "execution_count": 31,
   "id": "6b3e2ffc-d8fa-4ec8-9555-8da374e3ef60",
   "metadata": {},
   "outputs": [
    {
     "data": {
      "text/plain": [
       "6.0"
      ]
     },
     "execution_count": 31,
     "metadata": {},
     "output_type": "execute_result"
    }
   ],
   "source": [
    "a.imag"
   ]
  },
  {
   "cell_type": "markdown",
   "id": "9ba6787c-767b-49f2-8e82-0acd6bae0057",
   "metadata": {},
   "source": [
    "# Q7. What is the correct way to declare a variable named age and assign the value 25 to it?"
   ]
  },
  {
   "cell_type": "code",
   "execution_count": 5,
   "id": "c812bc13-4dcc-4c93-8116-60bb86c21ee1",
   "metadata": {},
   "outputs": [],
   "source": [
    "age = 25"
   ]
  },
  {
   "cell_type": "code",
   "execution_count": 6,
   "id": "f57cb347-1039-47c3-9b16-0b5ec4355ac3",
   "metadata": {},
   "outputs": [
    {
     "data": {
      "text/plain": [
       "25"
      ]
     },
     "execution_count": 6,
     "metadata": {},
     "output_type": "execute_result"
    }
   ],
   "source": [
    "age"
   ]
  },
  {
   "cell_type": "markdown",
   "id": "85ad8af8-1e03-40cc-aacf-743eacacaa68",
   "metadata": {},
   "source": [
    "# Q8. Declare a variable named price and assign the value 9.99 to it. What data type does this variable belong to?"
   ]
  },
  {
   "cell_type": "code",
   "execution_count": 8,
   "id": "7e13f546-82f4-4bf3-a597-50b7dd79c318",
   "metadata": {},
   "outputs": [],
   "source": [
    "price = 9.99"
   ]
  },
  {
   "cell_type": "code",
   "execution_count": 9,
   "id": "9ce1498f-1744-416e-a16e-a3f1b837f3e8",
   "metadata": {},
   "outputs": [
    {
     "data": {
      "text/plain": [
       "float"
      ]
     },
     "execution_count": 9,
     "metadata": {},
     "output_type": "execute_result"
    }
   ],
   "source": [
    "#price belong to float data type\n",
    "type(price)"
   ]
  },
  {
   "cell_type": "markdown",
   "id": "7a40e40a-e9df-4c63-ab8a-112bce4f37eb",
   "metadata": {},
   "source": [
    "# Q9. Create a variable named name and assign your full name to it as a string. How would you print the value of this variable? "
   ]
  },
  {
   "cell_type": "code",
   "execution_count": 40,
   "id": "c2f6f741-c1a4-4753-a2c7-202f64e849af",
   "metadata": {},
   "outputs": [],
   "source": [
    "name = \"Princy Hareshbhai Patel\""
   ]
  },
  {
   "cell_type": "code",
   "execution_count": 41,
   "id": "6629c919-2bd7-493a-9cad-ad7b00072c79",
   "metadata": {},
   "outputs": [
    {
     "data": {
      "text/plain": [
       "str"
      ]
     },
     "execution_count": 41,
     "metadata": {},
     "output_type": "execute_result"
    }
   ],
   "source": [
    "type(name)"
   ]
  },
  {
   "cell_type": "code",
   "execution_count": 42,
   "id": "346d4361-5484-4c71-bc2d-09aaeef6826a",
   "metadata": {},
   "outputs": [
    {
     "data": {
      "text/plain": [
       "23"
      ]
     },
     "execution_count": 42,
     "metadata": {},
     "output_type": "execute_result"
    }
   ],
   "source": [
    "len(name)"
   ]
  },
  {
   "cell_type": "markdown",
   "id": "99565d69-c635-4c97-a462-d8cfde850c59",
   "metadata": {},
   "source": [
    "# Q10. Given the string \"Hello, World!\", extract the substring \"World\"."
   ]
  },
  {
   "cell_type": "code",
   "execution_count": 44,
   "id": "9755a608-e707-46fe-9fe9-366bdf7655de",
   "metadata": {},
   "outputs": [],
   "source": [
    "str = \"Hello, World!\""
   ]
  },
  {
   "cell_type": "code",
   "execution_count": 46,
   "id": "56a35c58-3b39-4789-b7e2-5d5290b06b83",
   "metadata": {},
   "outputs": [
    {
     "data": {
      "text/plain": [
       "'World'"
      ]
     },
     "execution_count": 46,
     "metadata": {},
     "output_type": "execute_result"
    }
   ],
   "source": [
    "str[7:12]"
   ]
  },
  {
   "cell_type": "markdown",
   "id": "a3b3111d-d8eb-431a-addf-00a4dd638b10",
   "metadata": {},
   "source": [
    "# Q11. Create a variable named \"is_student\" and assign it a boolean value indicating whether you are currently a student or not."
   ]
  },
  {
   "cell_type": "code",
   "execution_count": 10,
   "id": "490bb724-ed33-4845-bb80-758ef389c1ea",
   "metadata": {},
   "outputs": [],
   "source": [
    "is_student = bool(1)"
   ]
  },
  {
   "cell_type": "code",
   "execution_count": 11,
   "id": "8694298b-7f7f-470f-a55c-fbdfc0835370",
   "metadata": {},
   "outputs": [
    {
     "data": {
      "text/plain": [
       "True"
      ]
     },
     "execution_count": 11,
     "metadata": {},
     "output_type": "execute_result"
    }
   ],
   "source": [
    "is_student"
   ]
  },
  {
   "cell_type": "code",
   "execution_count": null,
   "id": "1886641b-c1e1-4804-8bb6-bb3e1dd820a3",
   "metadata": {},
   "outputs": [],
   "source": []
  }
 ],
 "metadata": {
  "kernelspec": {
   "display_name": "Python 3 (ipykernel)",
   "language": "python",
   "name": "python3"
  },
  "language_info": {
   "codemirror_mode": {
    "name": "ipython",
    "version": 3
   },
   "file_extension": ".py",
   "mimetype": "text/x-python",
   "name": "python",
   "nbconvert_exporter": "python",
   "pygments_lexer": "ipython3",
   "version": "3.10.8"
  }
 },
 "nbformat": 4,
 "nbformat_minor": 5
}
